{
 "cells": [
  {
   "cell_type": "code",
   "execution_count": 1,
   "metadata": {},
   "outputs": [],
   "source": [
    "import pandas as pd\n",
    "import numpy as np\n",
    "import matplotlib.pyplot as plt"
   ]
  },
  {
   "cell_type": "code",
   "execution_count": 2,
   "metadata": {},
   "outputs": [],
   "source": [
    "from sklearn.preprocessing import OneHotEncoder\n",
    "from sklearn.model_selection import KFold\n",
    "import matplotlib.pyplot as plt"
   ]
  },
  {
   "cell_type": "code",
   "execution_count": 3,
   "metadata": {},
   "outputs": [],
   "source": [
    "from sklearn.model_selection import train_test_split\n",
    "\n",
    "from sklearn.ensemble import RandomForestRegressor"
   ]
  },
  {
   "cell_type": "code",
   "execution_count": 4,
   "metadata": {},
   "outputs": [],
   "source": [
    "#Read highest offer and transaction history\n",
    "price = pd.read_csv('trait_data_file_with_offer_name.csv')\n",
    "\n",
    "#Read traits\n",
    "trait = pd.read_csv('trait_data_file_with_name.csv') "
   ]
  },
  {
   "cell_type": "code",
   "execution_count": 5,
   "metadata": {},
   "outputs": [],
   "source": [
    "def count_type(x):\n",
    "    '''\n",
    "    count the number of element in a trait\n",
    "    return dictionary\n",
    "    '''\n",
    "    trait_count = dict()\n",
    "    trait_dict = dict()\n",
    "    for column in x:\n",
    "        if column != 'ID':\n",
    "            trait_count[column] = len(np.unique(x[column]))\n",
    "            trait_dict[column] = np.unique(x[column])\n",
    "    return trait_count, trait_dict\n",
    "\n",
    "traits_count,traits_detail = count_type(trait)"
   ]
  },
  {
   "cell_type": "code",
   "execution_count": 6,
   "metadata": {},
   "outputs": [
    {
     "name": "stdout",
     "output_type": "stream",
     "text": [
      "{'Background': 8, 'Fur': 19, 'Mouth': 33, 'Eyes': 23, 'Earring': 7, 'Clothes': 44, 'Hat': 37}\n",
      "\n",
      "Total number of different element: 171\n"
     ]
    }
   ],
   "source": [
    "print(traits_count)\n",
    "print()\n",
    "print('Total number of different element:', sum(traits_count.values()))"
   ]
  },
  {
   "cell_type": "code",
   "execution_count": 7,
   "metadata": {},
   "outputs": [
    {
     "name": "stdout",
     "output_type": "stream",
     "text": [
      "Background: ['Aquamarine' 'Army Green' 'Blue' 'Gray' 'New Punk Blue' 'Orange' 'Purple'\n",
      " 'Yellow']\n",
      "\n",
      "\n",
      "Fur: ['Black' 'Blue' 'Brown' 'Cheetah' 'Cream' 'Dark Brown' 'Death Bot' 'Dmt'\n",
      " 'Golden Brown' 'Gray' 'Noise' 'Pink' 'Red' 'Robot' 'Solid Gold' 'Tan'\n",
      " 'Trippy' 'White' 'Zombie']\n",
      "\n",
      "\n",
      "Mouth: ['Bored' 'Bored Bubblegum' 'Bored Cigar' 'Bored Cigarette' 'Bored Dagger'\n",
      " 'Bored Kazoo' 'Bored Party Horn' 'Bored Pipe' 'Bored Pizza'\n",
      " 'Bored Unshaven' 'Bored Unshaven Bubblegum' 'Bored Unshaven Cigar'\n",
      " 'Bored Unshaven Cigarette' 'Bored Unshaven Dagger' 'Bored Unshaven Kazoo'\n",
      " 'Bored Unshaven Party horn' 'Bored Unshaven Pipe' 'Bored Unshaven Pizza'\n",
      " 'Discomfort' 'Dumbfounded' 'Grin' 'Grin Diamond Grill' 'Grin Gold Grill'\n",
      " 'Grin Multicolored' 'Jovial' 'Phoneme  ooo' 'Phoneme L' 'Phoneme Oh'\n",
      " 'Phoneme Vuh' 'Phoneme Wah' 'Rage' 'Small Grin' 'Tongue Out']\n",
      "\n",
      "\n",
      "Eyes: ['3d' 'Angry' 'Blindfold' 'Bloodshot' 'Blue Beams' 'Bored' 'Closed'\n",
      " 'Coins' 'Crazy' 'Cyborg' 'Eyepatch' 'Heart' 'Holographic' 'Hypnotized'\n",
      " 'Laser Eyes' 'Robot' 'Sad' 'Scumbag' 'Sleepy' 'Sunglasses' 'Wide Eyed'\n",
      " 'X Eyes' 'Zombie']\n",
      "\n",
      "\n",
      "Earring: ['Cross' 'Diamond Stud' 'Gold Hoop' 'Gold Stud' 'None' 'Silver Hoop'\n",
      " 'Silver Stud']\n",
      "\n",
      "\n",
      "Clothes: ['Admirals Coat' 'Bandolier' 'Bayc T Black' 'Bayc T Red' 'Biker Vest'\n",
      " 'Black Holes T' 'Black Suit' 'Black T' 'Blue Dress' 'Bone Necklace'\n",
      " 'Bone Tee' 'Caveman Pelt' 'Cowboy Shirt' 'Guayabera' 'Hawaiian' 'Hip Hop'\n",
      " 'Kings Robe' 'Lab Coat' 'Leather Jacket' 'Leather Punk Jacket'\n",
      " 'Lumberjack Shirt' 'Navy Striped Tee' 'None' 'Pimp Coat'\n",
      " 'Prison Jumpsuit' 'Prom Dress' 'Puffy Vest' 'Rainbow Suspenders'\n",
      " 'Sailor Shirt' 'Service' 'Sleeveless Logo T' 'Sleeveless T'\n",
      " 'Smoking Jacket' 'Space Suit' 'Striped Tee' 'Stunt Jacket' 'Tanktop'\n",
      " 'Tie Dye' 'Toga' 'Tuxedo Tee' 'Tweed Suit' 'Vietnam Jacket'\n",
      " 'Wool Turtleneck' 'Work Vest']\n",
      "\n",
      "\n",
      "Hat: ['Army Hat' \"Baby's Bonnet\" 'Bandana Blue' 'Bayc Flipped Brim'\n",
      " 'Bayc Hat Black' 'Bayc Hat Red' 'Beanie' 'Bowler' 'Bunny Ears'\n",
      " 'Commie Hat' 'Cowboy Hat' 'Faux Hawk' 'Fez' \"Fisherman's Hat\"\n",
      " \"Girl's Hair Pink\" \"Girl's Hair Short\" 'Halo' 'Horns' 'Irish Boho'\n",
      " \"King's Crown\" 'Laurel Wreath' 'None' 'Party Hat 1' 'Party Hat 2'\n",
      " 'Police Motorcycle Helmet' 'Prussian Helmet' 'S&m Hat' 'Safari'\n",
      " \"Sea Captain's Hat\" \"Seaman's Hat\" 'Short Mohawk' 'Spinner Hat'\n",
      " 'Stuntman Helmet' 'Sushi Chef Headband' \"Trippy Captain's Hat\"\n",
      " 'Vietnam Era Helmet' 'Ww2 Pilot Helm']\n",
      "\n",
      "\n"
     ]
    }
   ],
   "source": [
    "for key,value in traits_detail.items():\n",
    "    print(key+':',value)\n",
    "    print('\\n')"
   ]
  },
  {
   "cell_type": "code",
   "execution_count": 8,
   "metadata": {},
   "outputs": [],
   "source": [
    "trans = (price.fillna(-1)).loc[:,'trans1':'trans13'].to_numpy()\n",
    "\n",
    "def most_recent_transaction(x):\n",
    "    '''\n",
    "    return a numpy array with the most recent transaction of each Ape\n",
    "    if an Ape was never sold, set the value to -1\n",
    "    '''\n",
    "    current = []\n",
    "    for i in range(trans.shape[0]):\n",
    "        if -1 in trans[i]:\n",
    "            a = np.where(trans[i] == -1)\n",
    "            ind = a[0][0]\n",
    "            if ind == 0:\n",
    "                current.append(-1)\n",
    "            else: \n",
    "                current.append(trans[i][ind-1])\n",
    "        else:\n",
    "            current.append(trans[i][-1])\n",
    "    \n",
    "    current = np.array(current)\n",
    "    current = np.where(current == 0, 0.001, current)\n",
    "    return current   \n",
    "\n",
    "recent_trans = most_recent_transaction(trans)"
   ]
  },
  {
   "cell_type": "markdown",
   "metadata": {},
   "source": [
    "## OnehotEncoder \n",
    "x: onehot traits + offer price, label: most recent transcation price"
   ]
  },
  {
   "cell_type": "code",
   "execution_count": 9,
   "metadata": {},
   "outputs": [],
   "source": [
    "x = trait.to_numpy()[:,1:]\n",
    "\n",
    "OH_enc = OneHotEncoder().fit(x)\n",
    "x = OH_enc.transform(x).toarray()\n",
    "\n",
    "df_OH = pd.DataFrame(x)\n",
    "df_OH['Offer'] = price['Offer']\n",
    "df_OH['trans'] = recent_trans"
   ]
  },
  {
   "cell_type": "code",
   "execution_count": 10,
   "metadata": {},
   "outputs": [],
   "source": [
    "#Split the data set by sold 0 times and others\n",
    "df_sold_oh = df_OH[df_OH['trans'] != -1]\n",
    "df_never_oh = df_OH[df_OH['trans'] == -1]"
   ]
  },
  {
   "cell_type": "code",
   "execution_count": 11,
   "metadata": {},
   "outputs": [],
   "source": [
    "#label value: transaction \n",
    "x_oh = df_sold_oh.to_numpy()[:,:-1]\n",
    "y_oh = df_sold_oh.to_numpy()[:,-1]"
   ]
  },
  {
   "cell_type": "code",
   "execution_count": 12,
   "metadata": {},
   "outputs": [],
   "source": [
    "X_train, X_test, y_train, y_test = train_test_split(x_oh, y_oh, test_size=0.25, random_state=42)"
   ]
  },
  {
   "cell_type": "code",
   "execution_count": 13,
   "metadata": {},
   "outputs": [],
   "source": [
    "def evaluate(model, test_features, test_labels):\n",
    "    predictions = model.predict(test_features)\n",
    "    errors = abs(predictions - test_labels)\n",
    "    mape = np.mean(errors / test_labels)\n",
    "    accuracy = 100 - mape\n",
    "    print('Model Performance')\n",
    "    print('Average Error: {:0.4f} degrees.'.format(np.mean(errors)))\n",
    "    print('Accuracy = {:0.2f}%.'.format(accuracy))\n",
    "    return accuracy"
   ]
  },
  {
   "cell_type": "code",
   "execution_count": 14,
   "metadata": {},
   "outputs": [],
   "source": [
    "rf_oh = RandomForestRegressor(n_estimators = 300, max_depth = 50,min_samples_split = 2, min_samples_leaf = 1)"
   ]
  },
  {
   "cell_type": "code",
   "execution_count": 15,
   "metadata": {},
   "outputs": [
    {
     "data": {
      "text/plain": [
       "RandomForestRegressor(bootstrap=True, ccp_alpha=0.0, criterion='mse',\n",
       "                      max_depth=50, max_features='auto', max_leaf_nodes=None,\n",
       "                      max_samples=None, min_impurity_decrease=0.0,\n",
       "                      min_impurity_split=None, min_samples_leaf=1,\n",
       "                      min_samples_split=2, min_weight_fraction_leaf=0.0,\n",
       "                      n_estimators=300, n_jobs=None, oob_score=False,\n",
       "                      random_state=None, verbose=0, warm_start=False)"
      ]
     },
     "execution_count": 15,
     "metadata": {},
     "output_type": "execute_result"
    }
   ],
   "source": [
    "rf_oh.fit(X_train,y_train)"
   ]
  },
  {
   "cell_type": "code",
   "execution_count": 16,
   "metadata": {},
   "outputs": [
    {
     "name": "stdout",
     "output_type": "stream",
     "text": [
      "Model Performance\n",
      "Average Error: 15.8312 degrees.\n",
      "Accuracy = 75.11%.\n"
     ]
    }
   ],
   "source": [
    "acc = evaluate(rf_oh,X_test,y_test)"
   ]
  },
  {
   "cell_type": "code",
   "execution_count": 17,
   "metadata": {},
   "outputs": [],
   "source": [
    "y_pred_oh = rf_oh.predict(X_test)"
   ]
  },
  {
   "cell_type": "code",
   "execution_count": 18,
   "metadata": {},
   "outputs": [
    {
     "data": {
      "text/plain": [
       "Text(0.5, 1.0, 'Most Recent Transaction')"
      ]
     },
     "execution_count": 18,
     "metadata": {},
     "output_type": "execute_result"
    },
    {
     "data": {
      "image/png": "[encoded data removed]",
      "text/plain": [
       "<Figure size 720x720 with 2 Axes>"
      ]
     },
     "metadata": {
      "needs_background": "light"
     },
     "output_type": "display_data"
    }
   ],
   "source": [
    "x_axis = np.arange(len(y_test))\n",
    "fig = plt.figure(figsize = (10,10))\n",
    "fig.add_subplot(1,2,1)\n",
    "plt.plot(x_axis,y_pred_oh)\n",
    "plt.title('RandomForest and OneHot Prediction')\n",
    "\n",
    "fig.add_subplot(1,2,2)\n",
    "plt.plot(x_axis,y_test)\n",
    "plt.title('Most Recent Transaction')\n"
   ]
  },
  {
   "cell_type": "code",
   "execution_count": 19,
   "metadata": {},
   "outputs": [],
   "source": [
    "def importance(x,dic):\n",
    "    importance = dict()\n",
    "    start = 0\n",
    "    for key,value in dic.items():\n",
    "        importance[key] = sum(x[start:start+value])*100\n",
    "        start += value\n",
    "    return importance"
   ]
  },
  {
   "cell_type": "code",
   "execution_count": 20,
   "metadata": {},
   "outputs": [],
   "source": [
    "importance = importance(rf_oh.feature_importances_,traits_count)"
   ]
  },
  {
   "cell_type": "code",
   "execution_count": 21,
   "metadata": {},
   "outputs": [],
   "source": [
    "labels = list(importance.keys())\n",
    "sizes = list(importance.values())\n",
    "explode = [(0.5 if label == 'Earring'else 0) for label in labels]"
   ]
  },
  {
   "cell_type": "code",
   "execution_count": 22,
   "metadata": {},
   "outputs": [
    {
     "data": {
      "image/png": "[encoded data removed]",
      "text/plain": [
       "<Figure size 432x288 with 1 Axes>"
      ]
     },
     "metadata": {},
     "output_type": "display_data"
    }
   ],
   "source": [
    "fig1, ax1 = plt.subplots()\n",
    "ax1.pie(sizes,explode = explode,labels=labels, autopct='%1.1f%%',\n",
    "        shadow=True, startangle=90)\n",
    "ax1.axis('equal')  # Equal aspect ratio ensures that pie is drawn as a circle.\n",
    "plt.title('Feature Importance')\n",
    "plt.show()"
   ]
  }
 ],
 "metadata": {
  "kernelspec": {
   "display_name": "Python 3",
   "language": "python",
   "name": "python3"
  },
  "language_info": {
   "codemirror_mode": {
    "name": "ipython",
    "version": 3
   },
   "file_extension": ".py",
   "mimetype": "text/x-python",
   "name": "python",
   "nbconvert_exporter": "python",
   "pygments_lexer": "ipython3",
   "version": "3.7.4"
  }
 },
 "nbformat": 4,
 "nbformat_minor": 4
}
